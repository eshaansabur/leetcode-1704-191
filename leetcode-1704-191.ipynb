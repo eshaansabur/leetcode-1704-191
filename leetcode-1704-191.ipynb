{
 "cells": [
  {
   "cell_type": "code",
   "execution_count": 1,
   "id": "9f99383c-3b98-4494-a679-e77498d69798",
   "metadata": {},
   "outputs": [],
   "source": [
    "s= 'book'\n",
    "def halvesAreAlike(s):\n",
    "    word= s\n",
    "    word_length= len(word)\n",
    "    vowels= ['a', 'e', 'i', 'o', 'u', 'A', 'E', 'I', 'O', 'U']\n",
    "    if word_length%2==0:\n",
    "        word_splitter= word_length / 2\n",
    "        w = int(word_splitter)\n",
    "        # Split the string at index\n",
    "        left_part, right_part = word[:w], word[w:]\n",
    "        left_counter = 0\n",
    "        right_counter = 0\n",
    "        for l in list(left_part):\n",
    "            if l in vowels:\n",
    "                left_counter = left_counter+1\n",
    "\n",
    "        for l in list(right_part):\n",
    "            if l in vowels:\n",
    "                right_counter = right_counter+1\n",
    "        #print(left_counter, right_counter)\n",
    "        if left_counter== right_counter:\n",
    "            return True\n",
    "        else:\n",
    "            return False\n",
    "    else:\n",
    "        return False\n"
   ]
  },
  {
   "cell_type": "code",
   "execution_count": 2,
   "id": "d2a8d64c-c4b5-41f9-925e-f09fcb1bc492",
   "metadata": {},
   "outputs": [
    {
     "data": {
      "text/plain": [
       "True"
      ]
     },
     "execution_count": 2,
     "metadata": {},
     "output_type": "execute_result"
    }
   ],
   "source": [
    "halvesAreAlike(s)"
   ]
  },
  {
   "cell_type": "code",
   "execution_count": 9,
   "id": "3c33e043-bc4b-4887-9048-62e1240880fa",
   "metadata": {},
   "outputs": [],
   "source": [
    "n = 11\n",
    "def hammingWeight(n):\n",
    "    converted = \"{:032b}\".format(n)\n",
    "    count = 0\n",
    "    for i in converted:\n",
    "        if i == '1':\n",
    "            count= count + 1\n",
    "    return count "
   ]
  },
  {
   "cell_type": "code",
   "execution_count": 10,
   "id": "7955b757-fe1d-45e0-a286-947ce12b36a5",
   "metadata": {},
   "outputs": [
    {
     "data": {
      "text/plain": [
       "3"
      ]
     },
     "execution_count": 10,
     "metadata": {},
     "output_type": "execute_result"
    }
   ],
   "source": [
    "hammingWeight(n)"
   ]
  },
  {
   "cell_type": "code",
   "execution_count": null,
   "id": "9269f8ed-20ef-4dda-a60b-af3397b904d8",
   "metadata": {},
   "outputs": [],
   "source": []
  }
 ],
 "metadata": {
  "kernelspec": {
   "display_name": "Python 3 (ipykernel)",
   "language": "python",
   "name": "python3"
  },
  "language_info": {
   "codemirror_mode": {
    "name": "ipython",
    "version": 3
   },
   "file_extension": ".py",
   "mimetype": "text/x-python",
   "name": "python",
   "nbconvert_exporter": "python",
   "pygments_lexer": "ipython3",
   "version": "3.11.7"
  }
 },
 "nbformat": 4,
 "nbformat_minor": 5
}
